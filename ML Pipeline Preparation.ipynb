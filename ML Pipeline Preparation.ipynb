{
 "cells": [
  {
   "cell_type": "markdown",
   "metadata": {},
   "source": [
    "# ML Pipeline Preparation\n",
    "Follow the instructions below to help you create your ML pipeline.\n",
    "### 1. Import libraries and load data from database.\n",
    "- Import Python libraries\n",
    "- Load dataset from database with [`read_sql_table`](https://pandas.pydata.org/pandas-docs/stable/generated/pandas.read_sql_table.html)\n",
    "- Define feature and target variables X and Y"
   ]
  },
  {
   "cell_type": "code",
   "execution_count": 1,
   "metadata": {},
   "outputs": [],
   "source": [
    "# import libraries\n",
    "import pandas as pd, numpy as np\n",
    "from sqlalchemy.engine import create_engine"
   ]
  },
  {
   "cell_type": "code",
   "execution_count": 2,
   "metadata": {},
   "outputs": [],
   "source": [
    "# load data from database\n",
    "engine = create_engine('sqlite:///InsertDatabaseName.db')\n",
    "df = pd.read_sql_table('InsertTableName1', engine)\n",
    "df.head()\n",
    "X = df['message'].values\n",
    "y = df.iloc[:, 4:].values\n",
    "category_names = list(df.iloc[:, 4:].columns)"
   ]
  },
  {
   "cell_type": "markdown",
   "metadata": {},
   "source": [
    "### 2. Write a tokenization function to process your text data"
   ]
  },
  {
   "cell_type": "code",
   "execution_count": 3,
   "metadata": {},
   "outputs": [
    {
     "name": "stdout",
     "output_type": "stream",
     "text": [
      "[nltk_data] Downloading package punkt to /root/nltk_data...\n",
      "[nltk_data]   Unzipping tokenizers/punkt.zip.\n",
      "[nltk_data] Downloading package wordnet to /root/nltk_data...\n",
      "[nltk_data]   Unzipping corpora/wordnet.zip.\n"
     ]
    },
    {
     "data": {
      "text/plain": [
       "True"
      ]
     },
     "execution_count": 3,
     "metadata": {},
     "output_type": "execute_result"
    }
   ],
   "source": [
    "import nltk\n",
    "nltk.download(['punkt', 'wordnet'])"
   ]
  },
  {
   "cell_type": "code",
   "execution_count": 4,
   "metadata": {},
   "outputs": [],
   "source": [
    "from nltk import word_tokenize\n",
    "from nltk.stem import WordNetLemmatizer\n",
    "\n",
    "def tokenize(text):\n",
    "    tokens = word_tokenize(text)\n",
    "    lemmatizer = WordNetLemmatizer()\n",
    "\n",
    "    clean_tokens = []\n",
    "    for tok in tokens:\n",
    "        clean_tok = lemmatizer.lemmatize(tok).lower().strip()\n",
    "        clean_tokens.append(clean_tok)\n",
    "\n",
    "    return clean_tokens"
   ]
  },
  {
   "cell_type": "markdown",
   "metadata": {},
   "source": [
    "### 3. Build a machine learning pipeline\n",
    "- First of all,"
   ]
  },
  {
   "cell_type": "code",
   "execution_count": 5,
   "metadata": {},
   "outputs": [
    {
     "data": {
      "text/plain": [
       "(8389, 36)"
      ]
     },
     "execution_count": 5,
     "metadata": {},
     "output_type": "execute_result"
    }
   ],
   "source": [
    "from sklearn.feature_extraction.text import CountVectorizer, TfidfTransformer\n",
    "from sklearn.model_selection import train_test_split\n",
    "from sklearn.multioutput import MultiOutputClassifier\n",
    "from sklearn.ensemble import RandomForestClassifier\n",
    "\n",
    "X_train, X_test, y_train, y_test = train_test_split(X, y, test_size=0.32)\n",
    "\n",
    "vect = CountVectorizer(tokenizer=tokenize)\n",
    "tfidf = TfidfTransformer()\n",
    "clf = MultiOutputClassifier(RandomForestClassifier())\n",
    "# train classifier\n",
    "X_train_counts = vect.fit_transform(X_train)\n",
    "X_train_tfidf = tfidf.fit_transform(X_train_counts)\n",
    "clf.fit(X_train_tfidf, y_train)\n",
    "\n",
    "# predict on test data\n",
    "X_test_counts = vect.transform(X_test)\n",
    "X_test_tfidf = tfidf.transform(X_test_counts)\n",
    "y_pred = clf.predict(X_test_tfidf)\n",
    "y_pred.shape"
   ]
  },
  {
   "cell_type": "markdown",
   "metadata": {},
   "source": [
    "Now, convert this into the pipeline model\n",
    "\n",
    "This machine pipeline should take in the `message` column as input and output classification results on the other 36 categories in the dataset. You may find the [MultiOutputClassifier](http://scikit-learn.org/stable/modules/generated/sklearn.multioutput.MultiOutputClassifier.html) helpful for predicting multiple target variables."
   ]
  },
  {
   "cell_type": "code",
   "execution_count": 6,
   "metadata": {},
   "outputs": [],
   "source": [
    "from sklearn.pipeline import Pipeline, FeatureUnion\n",
    "from sklearn.multioutput import MultiOutputClassifier\n",
    "\n",
    "pipeline = Pipeline([\n",
    "                    ('vect', CountVectorizer(tokenizer=tokenize)),\n",
    "                    ('tfidf', TfidfTransformer()),\n",
    "                    ('clf', MultiOutputClassifier(RandomForestClassifier()) )\n",
    "                ])"
   ]
  },
  {
   "cell_type": "markdown",
   "metadata": {},
   "source": [
    "### 4. Train pipeline\n",
    "- Split data into train and test sets\n",
    "- Train pipeline"
   ]
  },
  {
   "cell_type": "code",
   "execution_count": 7,
   "metadata": {},
   "outputs": [
    {
     "data": {
      "text/plain": [
       "Pipeline(memory=None,\n",
       "     steps=[('vect', CountVectorizer(analyzer='word', binary=False, decode_error='strict',\n",
       "        dtype=<class 'numpy.int64'>, encoding='utf-8', input='content',\n",
       "        lowercase=True, max_df=1.0, max_features=None, min_df=1,\n",
       "        ngram_range=(1, 1), preprocessor=None, stop_words=None,\n",
       "        strip...oob_score=False, random_state=None, verbose=0,\n",
       "            warm_start=False),\n",
       "           n_jobs=1))])"
      ]
     },
     "execution_count": 7,
     "metadata": {},
     "output_type": "execute_result"
    }
   ],
   "source": [
    "X_train, X_test, y_train, y_test = train_test_split(X, y, test_size=0.32)\n",
    "pipeline.fit(X_train, y_train)"
   ]
  },
  {
   "cell_type": "markdown",
   "metadata": {},
   "source": [
    "### 5. Test your model\n",
    "Report the f1 score, precision and recall for each output category of the dataset. You can do this by iterating through the columns and calling sklearn's `classification_report` on each."
   ]
  },
  {
   "cell_type": "code",
   "execution_count": 8,
   "metadata": {},
   "outputs": [
    {
     "name": "stdout",
     "output_type": "stream",
     "text": [
      "0 .  related . \t acc =  0.792227917511\n",
      "             precision    recall  f1-score   support\n",
      "\n",
      "          0       0.61      0.34      0.44      1984\n",
      "          1       0.82      0.93      0.87      6405\n",
      "\n",
      "avg / total       0.77      0.79      0.77      8389\n",
      "\n",
      "1 .  request . \t acc =  0.878889021337\n",
      "             precision    recall  f1-score   support\n",
      "\n",
      "          0       0.88      0.98      0.93      6940\n",
      "          1       0.81      0.39      0.52      1449\n",
      "\n",
      "avg / total       0.87      0.88      0.86      8389\n",
      "\n",
      "2 .  offer . \t acc =  0.994039814042\n",
      "             precision    recall  f1-score   support\n",
      "\n",
      "          0       0.99      1.00      1.00      8339\n",
      "          1       0.00      0.00      0.00        50\n",
      "\n",
      "avg / total       0.99      0.99      0.99      8389\n",
      "\n",
      "3 .  aid_related . \t acc =  0.733937298844\n",
      "             precision    recall  f1-score   support\n",
      "\n",
      "          0       0.73      0.88      0.79      4929\n",
      "          1       0.75      0.53      0.62      3460\n",
      "\n",
      "avg / total       0.74      0.73      0.72      8389\n",
      "\n",
      "4 .  medical_help . \t acc =  0.926689712719\n",
      "             precision    recall  f1-score   support\n",
      "\n",
      "          0       0.93      1.00      0.96      7761\n",
      "          1       0.58      0.07      0.13       628\n",
      "\n",
      "avg / total       0.90      0.93      0.90      8389\n",
      "\n",
      "5 .  medical_products . \t acc =  0.952080104899\n",
      "             precision    recall  f1-score   support\n",
      "\n",
      "          0       0.95      1.00      0.98      7967\n",
      "          1       0.68      0.09      0.16       422\n",
      "\n",
      "avg / total       0.94      0.95      0.93      8389\n",
      "\n",
      "6 .  search_and_rescue . \t acc =  0.973655978067\n",
      "             precision    recall  f1-score   support\n",
      "\n",
      "          0       0.98      1.00      0.99      8163\n",
      "          1       0.58      0.08      0.15       226\n",
      "\n",
      "avg / total       0.96      0.97      0.96      8389\n",
      "\n",
      "7 .  security . \t acc =  0.982000238407\n",
      "             precision    recall  f1-score   support\n",
      "\n",
      "          0       0.98      1.00      0.99      8240\n",
      "          1       0.25      0.01      0.01       149\n",
      "\n",
      "avg / total       0.97      0.98      0.97      8389\n",
      "\n",
      "8 .  military . \t acc =  0.966861366075\n",
      "             precision    recall  f1-score   support\n",
      "\n",
      "          0       0.97      1.00      0.98      8109\n",
      "          1       0.53      0.06      0.11       280\n",
      "\n",
      "avg / total       0.95      0.97      0.95      8389\n",
      "\n",
      "9 .  child_alone . \t acc =  1.0\n",
      "             precision    recall  f1-score   support\n",
      "\n",
      "          0       1.00      1.00      1.00      8389\n",
      "\n",
      "avg / total       1.00      1.00      1.00      8389\n",
      "\n",
      "10 .  water . \t acc =  0.945047085469\n",
      "             precision    recall  f1-score   support\n",
      "\n",
      "          0       0.95      1.00      0.97      7847\n",
      "          1       0.85      0.18      0.30       542\n",
      "\n",
      "avg / total       0.94      0.95      0.93      8389\n",
      "\n",
      "11 .  food . \t acc =  0.923113601144\n",
      "             precision    recall  f1-score   support\n",
      "\n",
      "          0       0.93      0.99      0.96      7446\n",
      "          1       0.85      0.38      0.53       943\n",
      "\n",
      "avg / total       0.92      0.92      0.91      8389\n",
      "\n",
      "12 .  shelter . \t acc =  0.929669805698\n",
      "             precision    recall  f1-score   support\n",
      "\n",
      "          0       0.93      0.99      0.96      7671\n",
      "          1       0.80      0.24      0.36       718\n",
      "\n",
      "avg / total       0.92      0.93      0.91      8389\n",
      "\n",
      "13 .  clothing . \t acc =  0.984384312791\n",
      "             precision    recall  f1-score   support\n",
      "\n",
      "          0       0.98      1.00      0.99      8255\n",
      "          1       0.80      0.03      0.06       134\n",
      "\n",
      "avg / total       0.98      0.98      0.98      8389\n",
      "\n",
      "14 .  money . \t acc =  0.976636071045\n",
      "             precision    recall  f1-score   support\n",
      "\n",
      "          0       0.98      1.00      0.99      8192\n",
      "          1       0.67      0.01      0.02       197\n",
      "\n",
      "avg / total       0.97      0.98      0.97      8389\n",
      "\n",
      "15 .  missing_people . \t acc =  0.988794850399\n",
      "             precision    recall  f1-score   support\n",
      "\n",
      "          0       0.99      1.00      0.99      8294\n",
      "          1       0.67      0.02      0.04        95\n",
      "\n",
      "avg / total       0.99      0.99      0.98      8389\n",
      "\n",
      "16 .  refugees . \t acc =  0.966384551198\n",
      "             precision    recall  f1-score   support\n",
      "\n",
      "          0       0.97      1.00      0.98      8112\n",
      "          1       0.37      0.03      0.05       277\n",
      "\n",
      "avg / total       0.95      0.97      0.95      8389\n",
      "\n",
      "17 .  death . \t acc =  0.955775420193\n",
      "             precision    recall  f1-score   support\n",
      "\n",
      "          0       0.96      1.00      0.98      8005\n",
      "          1       0.70      0.06      0.11       384\n",
      "\n",
      "avg / total       0.94      0.96      0.94      8389\n",
      "\n",
      "18 .  other_aid . \t acc =  0.872332816784\n",
      "             precision    recall  f1-score   support\n",
      "\n",
      "          0       0.87      1.00      0.93      7309\n",
      "          1       0.58      0.03      0.06      1080\n",
      "\n",
      "avg / total       0.84      0.87      0.82      8389\n",
      "\n",
      "19 .  infrastructure_related . \t acc =  0.93789486232\n",
      "             precision    recall  f1-score   support\n",
      "\n",
      "          0       0.94      1.00      0.97      7871\n",
      "          1       0.29      0.00      0.01       518\n",
      "\n",
      "avg / total       0.90      0.94      0.91      8389\n",
      "\n",
      "20 .  transport . \t acc =  0.9576826797\n",
      "             precision    recall  f1-score   support\n",
      "\n",
      "          0       0.96      1.00      0.98      8019\n",
      "          1       0.86      0.05      0.09       370\n",
      "\n",
      "avg / total       0.95      0.96      0.94      8389\n",
      "\n",
      "21 .  buildings . \t acc =  0.953629753248\n",
      "             precision    recall  f1-score   support\n",
      "\n",
      "          0       0.95      1.00      0.98      7975\n",
      "          1       0.78      0.08      0.15       414\n",
      "\n",
      "avg / total       0.95      0.95      0.94      8389\n",
      "\n",
      "22 .  electricity . \t acc =  0.979020145429\n",
      "             precision    recall  f1-score   support\n",
      "\n",
      "          0       0.98      1.00      0.99      8212\n",
      "          1       0.57      0.02      0.04       177\n",
      "\n",
      "avg / total       0.97      0.98      0.97      8389\n",
      "\n",
      "23 .  tools . \t acc =  0.994635832638\n",
      "             precision    recall  f1-score   support\n",
      "\n",
      "          0       0.99      1.00      1.00      8344\n",
      "          1       0.00      0.00      0.00        45\n",
      "\n",
      "avg / total       0.99      0.99      0.99      8389\n",
      "\n",
      "24 .  hospitals . \t acc =  0.991417332221\n",
      "             precision    recall  f1-score   support\n",
      "\n",
      "          0       0.99      1.00      1.00      8318\n",
      "          1       0.00      0.00      0.00        71\n",
      "\n",
      "avg / total       0.98      0.99      0.99      8389\n",
      "\n",
      "25 .  shops . \t acc =  0.994874240076\n",
      "             precision    recall  f1-score   support\n",
      "\n",
      "          0       0.99      1.00      1.00      8346\n",
      "          1       0.00      0.00      0.00        43\n",
      "\n",
      "avg / total       0.99      0.99      0.99      8389\n",
      "\n",
      "26 .  aid_centers . \t acc =  0.989152461557\n",
      "             precision    recall  f1-score   support\n",
      "\n",
      "          0       0.99      1.00      0.99      8298\n",
      "          1       0.00      0.00      0.00        91\n",
      "\n",
      "avg / total       0.98      0.99      0.98      8389\n",
      "\n",
      "27 .  other_infrastructure . \t acc =  0.957205864823\n",
      "             precision    recall  f1-score   support\n",
      "\n",
      "          0       0.96      1.00      0.98      8031\n",
      "          1       0.44      0.01      0.02       358\n",
      "\n",
      "avg / total       0.94      0.96      0.94      8389\n",
      "\n",
      "28 .  weather_related . \t acc =  0.834426034092\n",
      "             precision    recall  f1-score   support\n",
      "\n",
      "          0       0.84      0.96      0.89      6107\n",
      "          1       0.81      0.51      0.63      2282\n",
      "\n",
      "avg / total       0.83      0.83      0.82      8389\n",
      "\n",
      "29 .  floods . \t acc =  0.943974251997\n",
      "             precision    recall  f1-score   support\n",
      "\n",
      "          0       0.95      1.00      0.97      7717\n",
      "          1       0.90      0.34      0.49       672\n",
      "\n",
      "avg / total       0.94      0.94      0.93      8389\n",
      "\n",
      "30 .  storm . \t acc =  0.928120157349\n",
      "             precision    recall  f1-score   support\n",
      "\n",
      "          0       0.93      0.99      0.96      7631\n",
      "          1       0.79      0.28      0.41       758\n",
      "\n",
      "avg / total       0.92      0.93      0.91      8389\n",
      "\n",
      "31 .  fire . \t acc =  0.990344498748\n",
      "             precision    recall  f1-score   support\n",
      "\n",
      "          0       0.99      1.00      1.00      8305\n",
      "          1       1.00      0.04      0.07        84\n",
      "\n",
      "avg / total       0.99      0.99      0.99      8389\n",
      "\n",
      "32 .  earthquake . \t acc =  0.953033734653\n",
      "             precision    recall  f1-score   support\n",
      "\n",
      "          0       0.96      0.99      0.97      7616\n",
      "          1       0.89      0.56      0.69       773\n",
      "\n",
      "avg / total       0.95      0.95      0.95      8389\n",
      "\n",
      "33 .  cold . \t acc =  0.981881034688\n",
      "             precision    recall  f1-score   support\n",
      "\n",
      "          0       0.98      1.00      0.99      8223\n",
      "          1       0.79      0.11      0.20       166\n",
      "\n",
      "avg / total       0.98      0.98      0.98      8389\n",
      "\n",
      "34 .  other_weather . \t acc =  0.949696030516\n",
      "             precision    recall  f1-score   support\n",
      "\n",
      "          0       0.95      1.00      0.97      7962\n",
      "          1       0.59      0.04      0.07       427\n",
      "\n",
      "avg / total       0.93      0.95      0.93      8389\n",
      "\n",
      "35 .  direct_report . \t acc =  0.843723924186\n",
      "             precision    recall  f1-score   support\n",
      "\n",
      "          0       0.85      0.98      0.91      6714\n",
      "          1       0.78      0.30      0.44      1675\n",
      "\n",
      "avg / total       0.84      0.84      0.81      8389\n",
      "\n"
     ]
    },
    {
     "name": "stderr",
     "output_type": "stream",
     "text": [
      "/opt/conda/lib/python3.6/site-packages/sklearn/metrics/classification.py:1135: UndefinedMetricWarning: Precision and F-score are ill-defined and being set to 0.0 in labels with no predicted samples.\n",
      "  'precision', 'predicted', average, warn_for)\n"
     ]
    }
   ],
   "source": [
    "y_pred = pipeline.predict(X_test)\n",
    "\n",
    "from sklearn.metrics import classification_report\n",
    "\n",
    "colnames = list(df.iloc[:, 4:].columns)\n",
    "for k in range(len(colnames)):\n",
    "    print(k, '. ', colnames[k], '. \\t acc = ', (y_pred[:, k] == y_test[:,k]).mean())\n",
    "    print(classification_report(y_test[:,k], y_pred[:,k]))"
   ]
  },
  {
   "cell_type": "markdown",
   "metadata": {},
   "source": [
    "### 6. Improve your model\n",
    "Use grid search to find better parameters. "
   ]
  },
  {
   "cell_type": "code",
   "execution_count": 9,
   "metadata": {},
   "outputs": [],
   "source": [
    "from sklearn.model_selection import GridSearchCV\n",
    "\n",
    "parameters = {\n",
    "                'vect__ngram_range': ((1, 1), (1, 2), (1, 3)),\n",
    "                'vect__max_df': (0.5, 0.75, 1.0),\n",
    "                'vect__max_features': (None, 100, 500),\n",
    "                'tfidf__use_idf': (True, False)\n",
    "            }\n",
    "\n",
    "#cv = GridSearchCV(pipeline, param_grid = parameters)\n",
    "#cv.fit(X_train, y_train)"
   ]
  },
  {
   "cell_type": "markdown",
   "metadata": {},
   "source": [
    "### 7. Test your model\n",
    "Show the accuracy, precision, and recall of the tuned model.  \n",
    "\n",
    "Since this project focuses on code quality, process, and  pipelines, there is no minimum performance metric needed to pass. However, make sure to fine tune your models for accuracy, precision and recall to make your project stand out - especially for your portfolio!"
   ]
  },
  {
   "cell_type": "code",
   "execution_count": 10,
   "metadata": {},
   "outputs": [],
   "source": [
    "#y_pred = cv.predict(X_test)"
   ]
  },
  {
   "cell_type": "markdown",
   "metadata": {},
   "source": [
    "### 8. Try improving your model further. Here are a few ideas:\n",
    "* try other machine learning algorithms\n",
    "* add other features besides the TF-IDF"
   ]
  },
  {
   "cell_type": "code",
   "execution_count": 11,
   "metadata": {},
   "outputs": [],
   "source": [
    "parameters = {\n",
    "                'vect__ngram_range': ((1, 1), (1, 2), (1, 3), (2, 2), (2, 3), (3, 3)),\n",
    "                'vect__max_df': (0.5, 0.75, 1.0),\n",
    "                'vect__max_features': (None, 500, 1000, 2000),\n",
    "                'tfidf__use_idf': (True, False)\n",
    "            }"
   ]
  },
  {
   "cell_type": "markdown",
   "metadata": {},
   "source": [
    "### 9. Export your model as a pickle file"
   ]
  },
  {
   "cell_type": "code",
   "execution_count": 12,
   "metadata": {},
   "outputs": [],
   "source": [
    "import pickle\n",
    "filename = 'classifier.pkl'\n",
    "pickle.dump(clf, open(filename, 'wb'))\n",
    "#pickle.dump(clf, filename)\n",
    "\n",
    "# load the model from disk\n",
    "loaded_model = pickle.load(open(filename, 'rb'))\n",
    "#result = loaded_model.score(X_test, y_test)"
   ]
  },
  {
   "cell_type": "markdown",
   "metadata": {},
   "source": [
    "### 10. Use this notebook to complete `train.py`\n",
    "Use the template file attached in the Resources folder to write a script that runs the steps above to create a database and export a model based on a new dataset specified by the user."
   ]
  },
  {
   "cell_type": "code",
   "execution_count": 14,
   "metadata": {},
   "outputs": [
    {
     "data": {
      "text/plain": [
       "(3,\n",
       " ['/opt/conda/lib/python3.6/site-packages/ipykernel_launcher.py',\n",
       "  '-f',\n",
       "  '/root/.local/share/jupyter/runtime/kernel-b21cc771-6152-4dd6-bfd6-545ad154f00e.json'])"
      ]
     },
     "execution_count": 14,
     "metadata": {},
     "output_type": "execute_result"
    }
   ],
   "source": [
    "import sys\n",
    "len(sys.argv), sys.argv"
   ]
  },
  {
   "cell_type": "code",
   "execution_count": null,
   "metadata": {},
   "outputs": [],
   "source": []
  }
 ],
 "metadata": {
  "kernelspec": {
   "display_name": "Python 3",
   "language": "python",
   "name": "python3"
  },
  "language_info": {
   "codemirror_mode": {
    "name": "ipython",
    "version": 3
   },
   "file_extension": ".py",
   "mimetype": "text/x-python",
   "name": "python",
   "nbconvert_exporter": "python",
   "pygments_lexer": "ipython3",
   "version": "3.6.3"
  }
 },
 "nbformat": 4,
 "nbformat_minor": 2
}
